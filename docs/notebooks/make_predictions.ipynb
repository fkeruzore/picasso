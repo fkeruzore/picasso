{
 "cells": [
  {
   "cell_type": "markdown",
   "metadata": {},
   "source": [
    "# Tutorial: using the `picasso` trained predictors\n",
    "\n",
    "This notebook shows how one can use the trained models to make predictions of gas thermodynamics from halo properties."
   ]
  },
  {
   "cell_type": "code",
   "execution_count": 1,
   "metadata": {},
   "outputs": [],
   "source": [
    "import jax\n",
    "import jax.numpy as jnp\n",
    "import matplotlib.pyplot as plt\n",
    "from astropy.table import Table\n",
    "from astropy.cosmology import FlatLambdaCDM\n",
    "\n",
    "from picasso import predictors\n",
    "from picasso.utils.plots import NFW\n",
    "\n",
    "import seaborn as sns\n",
    "sns.set_style(\"darkgrid\")\n",
    "sns.set_theme(\"notebook\")"
   ]
  },
  {
   "cell_type": "markdown",
   "metadata": {},
   "source": [
    "We will use the `minimal_576` trained model, which takes as input halo mass and concentration:"
   ]
  },
  {
   "cell_type": "code",
   "execution_count": 2,
   "metadata": {},
   "outputs": [
    {
     "name": "stdout",
     "output_type": "stream",
     "text": [
      "['log M200', 'c200']\n"
     ]
    }
   ],
   "source": [
    "predictor = predictors.minimal_576\n",
    "print(predictor.input_names)"
   ]
  },
  {
   "cell_type": "markdown",
   "metadata": {},
   "source": [
    "## Predicting gas model parameters\n",
    "\n",
    "First, we want to compute predictions for the model parameter vector, $\\vartheta_{\\rm gas}$.\n",
    "To do so, we simply need the vector of scalar halo properties $\\vartheta_{\\rm halo}$.\n",
    "We'll use some pre-stored data (containing four halos from the simulations presented in Kéruzoré+24) and write the input vector:"
   ]
  },
  {
   "cell_type": "code",
   "execution_count": 3,
   "metadata": {},
   "outputs": [
    {
     "name": "stdout",
     "output_type": "stream",
     "text": [
      "(4, 2)\n"
     ]
    },
    {
     "name": "stderr",
     "output_type": "stream",
     "text": [
      "2024-08-12 17:44:59.590725: W external/xla/xla/service/gpu/nvptx_compiler.cc:760] The NVIDIA driver's CUDA version is 12.4 which is older than the ptxas CUDA version (12.5.40). Because the driver is older than the ptxas version, XLA is disabling parallel compilation, which may slow down compilation. You should update your NVIDIA driver or use the NVIDIA-provided CUDA forward compatibility packages.\n"
     ]
    }
   ],
   "source": [
    "halos = Table.read(\"../data/halos.hdf5\")\n",
    "logM200c = jnp.log10(halos[\"M200c\"])\n",
    "c200c = jnp.array(halos[\"c200c\"])\n",
    "theta_halo = jnp.array([logM200c, c200c]).T\n",
    "print(theta_halo.shape)"
   ]
  },
  {
   "cell_type": "markdown",
   "metadata": {},
   "source": [
    "We can then use the `predictor.predict_model_parameters()` function to predict $\\vartheta_{\\rm gas}$. For a single halo:"
   ]
  },
  {
   "cell_type": "code",
   "execution_count": 4,
   "metadata": {},
   "outputs": [
    {
     "name": "stdout",
     "output_type": "stream",
     "text": [
      "[3.2217349e+03 1.9191902e+02 1.1346726e+00 0.0000000e+00 3.5946820e-07\n",
      " 1.1811828e-02 2.1121843e-01 1.6479002e+00]\n"
     ]
    }
   ],
   "source": [
    "theta_gas_0 = predictor.predict_model_parameters(theta_halo[0])\n",
    "print(theta_gas_0)"
   ]
  },
  {
   "cell_type": "markdown",
   "metadata": {},
   "source": [
    "The `predictor.predict_model_parameters()` function can also be used for several halos at a time:"
   ]
  },
  {
   "cell_type": "code",
   "execution_count": 5,
   "metadata": {},
   "outputs": [
    {
     "name": "stdout",
     "output_type": "stream",
     "text": [
      "[[3.2217329e+03 1.9191902e+02 1.1346726e+00 0.0000000e+00 3.5946820e-07\n",
      "  1.1811828e-02 2.1121846e-01 1.6479002e+00]\n",
      " [1.1516166e+03 6.4102837e+01 1.1361028e+00 0.0000000e+00 2.6019131e-07\n",
      "  4.2736135e-02 3.2087338e-01 1.0452865e+00]\n",
      " [1.1092018e+03 6.1245892e+01 1.1370699e+00 0.0000000e+00 1.8584416e-07\n",
      "  3.9753512e-02 3.3282009e-01 1.0353638e+00]\n",
      " [8.4998853e+02 4.8176407e+01 1.1426771e+00 0.0000000e+00 1.3825040e-07\n",
      "  4.1372985e-02 3.5185230e-01 9.5307529e-01]]\n",
      "(4, 8)\n"
     ]
    }
   ],
   "source": [
    "theta_gas = predictor.predict_model_parameters(theta_halo)\n",
    "print(theta_gas)\n",
    "print(theta_gas.shape)"
   ]
  },
  {
   "cell_type": "markdown",
   "metadata": {},
   "source": [
    "It can also be just-in-time compiled:"
   ]
  },
  {
   "cell_type": "code",
   "execution_count": 6,
   "metadata": {},
   "outputs": [
    {
     "name": "stdout",
     "output_type": "stream",
     "text": [
      "Not jit-ted:\n",
      "27 ms ± 179 μs per loop (mean ± std. dev. of 7 runs, 10 loops each)\n",
      "jit-ted:\n",
      "64.7 μs ± 25.1 μs per loop (mean ± std. dev. of 7 runs, 1 loop each)\n"
     ]
    }
   ],
   "source": [
    "predict_jit = jax.jit(predictor.predict_model_parameters)\n",
    "print(\"Not jitted:\")\n",
    "%timeit _ = predictor.predict_model_parameters(theta_halo)\n",
    "print(\"jitted:\")\n",
    "%timeit _ = predict_jit(theta_halo)"
   ]
  },
  {
   "cell_type": "markdown",
   "metadata": {},
   "source": [
    "## Predicting gas thermodynamics\n",
    "\n",
    "With a prediction for $\\vartheta_{\\rm gas}$, we can use `picasso.polytrop` and `picasso.nonthermal` to predict gas thermodynamics (see example gallery).\n",
    "`PicassoPredictor` objects also offers a wrapper function that predicts all thermodynamic properties directly from an input vector $\\vartheta_{\\rm halo}$ and a potential distribution.\n",
    "Assuming the halos above are NFW, we can predict their potential profiles:"
   ]
  },
  {
   "cell_type": "code",
   "execution_count": 30,
   "metadata": {},
   "outputs": [],
   "source": [
    "r_R500c = jnp.logspace(-1, 0.5, 51)\n",
    "\n",
    "phi = []\n",
    "for i in range(4):\n",
    "    nfw_i = NFW(halos[\"M200c\"][i], halos[\"c200c\"][i], \"200c\", z=0.0, cosmo=FlatLambdaCDM(70.0, 0.3))\n",
    "    phi_i = nfw_i.potential(r_R500c * halos[\"R500c\"][i])\n",
    "    phi.append(phi_i - nfw_i.potential(1e-6))"
   ]
  },
  {
   "cell_type": "markdown",
   "metadata": {},
   "source": [
    "Then, we can make predictions of gas thermodynamics for one halo:"
   ]
  },
  {
   "cell_type": "code",
   "execution_count": 33,
   "metadata": {},
   "outputs": [],
   "source": [
    "rho_g, P_tot, P_th, f_nt = predictor.predict_gas_model(theta_halo[0], phi[0], r_R500c, r_R500c / 2)"
   ]
  },
  {
   "cell_type": "markdown",
   "metadata": {},
   "source": [
    "Or for all halos at the same time (this function uses `jax.vmap` to vectorize the predictions):"
   ]
  },
  {
   "cell_type": "code",
   "execution_count": 40,
   "metadata": {},
   "outputs": [],
   "source": [
    "r_R500c_v = jnp.outer(jnp.ones(4), r_R500c)\n",
    "phi_v = jnp.array(phi)\n",
    "rho_g, P_tot, P_th, f_nt = predictor.predict_gas_model(theta_halo, phi_v, r_R500c_v, r_R500c_v / 2)\n"
   ]
  },
  {
   "cell_type": "code",
   "execution_count": 41,
   "metadata": {},
   "outputs": [
    {
     "name": "stdout",
     "output_type": "stream",
     "text": [
      "1 halo, not jitted:\n",
      "30.3 ms ± 119 μs per loop (mean ± std. dev. of 7 runs, 10 loops each)\n",
      "1 halo, jitted:\n",
      "519 μs ± 91.8 μs per loop (mean ± std. dev. of 7 runs, 1 loop each)\n",
      "4 halo, not jitted:\n",
      "48.7 ms ± 708 μs per loop (mean ± std. dev. of 7 runs, 10 loops each)\n",
      "4 halo, jitted:\n",
      "168 μs ± 64.2 μs per loop (mean ± std. dev. of 7 runs, 1 loop each)\n"
     ]
    }
   ],
   "source": [
    "predict_jit = jax.jit(predictor.predict_gas_model)\n",
    "\n",
    "print(\"1 halo, not jitted:\")\n",
    "%timeit _ = predictor.predict_gas_model(theta_halo[0], phi[0], r_R500c, r_R500c / 2)\n",
    "print(\"1 halo, jitted:\")\n",
    "%timeit _ = predict_jit(theta_halo[0], phi[0], r_R500c, r_R500c / 2)\n",
    "\n",
    "print(\"4 halo, not jitted:\")\n",
    "%timeit _ = predictor.predict_gas_model(theta_halo, phi_v, r_R500c_v, r_R500c_v / 2)\n",
    "print(\"4 halo, jitted:\")\n",
    "%timeit _ = predict_jit(theta_halo, phi_v, r_R500c_v, r_R500c_v / 2)"
   ]
  }
 ],
 "metadata": {
  "kernelspec": {
   "display_name": "picasso",
   "language": "python",
   "name": "python3"
  },
  "language_info": {
   "codemirror_mode": {
    "name": "ipython",
    "version": 3
   },
   "file_extension": ".py",
   "mimetype": "text/x-python",
   "name": "python",
   "nbconvert_exporter": "python",
   "pygments_lexer": "ipython3",
   "version": "3.12.3"
  }
 },
 "nbformat": 4,
 "nbformat_minor": 2
}
